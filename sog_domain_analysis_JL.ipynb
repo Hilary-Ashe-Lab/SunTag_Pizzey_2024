{
 "cells": [
  {
   "cell_type": "markdown",
   "metadata": {},
   "source": [
    "sog translation site analysis 01.25\n",
    "\n",
    "@author: jennifer love"
   ]
  },
  {
   "cell_type": "markdown",
   "metadata": {},
   "source": [
    "This script analyses the translation output of sog mRNAs across its expression domain using the SunTag method. Colocalised mRNAs and neongreen (protein) foci represent active sites of translation, and the total intensity of active translation sites per nucleus is calculated to give a readout of sog translation across the domain.\n",
    "\n",
    "The data used here have undergone pre-processing including colocalisation of mRNAs and neongreen foci (via Imaris), and colocalised neongreen foci have been assigned to the closest nucleus using the sass pipeline. See paper methods for further details."
   ]
  },
  {
   "cell_type": "code",
   "execution_count": 1,
   "metadata": {},
   "outputs": [],
   "source": [
    "# Import packages and set global plotting parameters\n",
    "\n",
    "import pandas as pd\n",
    "import numpy as np\n",
    "import seaborn as sns\n",
    "import matplotlib as mpl\n",
    "import matplotlib.pyplot as plt\n",
    "import math as math\n",
    "from cmcrameri import cm\n",
    "\n",
    "mpl.rc('font',family='Arial', size=16)\n",
    "csfont = {'fontname': 'Arial'}\n",
    "sns.rc={'axes.facecolor':'white', 'figure.facecolor':'white'}\n"
   ]
  },
  {
   "cell_type": "markdown",
   "metadata": {},
   "source": [
    "Define functions to be used in this script"
   ]
  },
  {
   "cell_type": "code",
   "execution_count": 2,
   "metadata": {},
   "outputs": [],
   "source": [
    "def plot_heatmap(x, y, size, colors, xtitle, ytitle, savefig):\n",
    "    fig, ax = plt.subplots(figsize=size)\n",
    "    \n",
    "    sns.scatterplot(x=x, y=y, hue=colors, palette=cm.navia, s=50, edgecolor=None)\n",
    "    ax.set_xlabel(xtitle, size=14)\n",
    "    ax.set_ylabel(ytitle, size=14)\n",
    "    ax.grid(False)\n",
    "    ax.set_facecolor('white')\n",
    "    ax.axis('on')\n",
    "    ax.spines['left'].set_color('k')\n",
    "    ax.spines['right'].set_color('k')\n",
    "    ax.spines['top'].set_color('k')\n",
    "    ax.spines['bottom'].set_color('k')\n",
    "    plt.legend(bbox_to_anchor=(1.02, 1), loc=2, borderaxespad=0.)\n",
    "    plt.tight_layout()\n",
    "    if savefig == 'true':\n",
    "        plt.savefig('e1_heatmap.png', dpi=1200)\n",
    "    plt.show()\n",
    "\n",
    "def rotate_embryo(data, x, y, theta, AP_flip, DV_flip):\n",
    "    data['xrot'] = (x * math.cos(theta)) - (y * math.sin(theta))\n",
    "    data['yrot'] = (x * math.sin(theta)) + (y * math.cos(theta))\n",
    "    if AP_flip == 'true':\n",
    "        data['xrot'] = - data['xrot']\n",
    "    if DV_flip == 'true':\n",
    "        data['yrot'] = - data['yrot']\n",
    "    return data\n",
    "\n",
    "def normalise_data_2D(data, colx, coly, subscript_x='', subscript_y=''):\n",
    "    data['xnorm' + subscript_x] = ((colx- colx.min())/(colx.max() - colx.min()))\n",
    "    data['ynorm' + subscript_y] = ((coly - coly.min())/(coly.max() - coly.min()))\n",
    "    return data\n",
    "\n",
    "def bin_data(data, col, bins, bin_name):\n",
    "    bin_step = 1/bins\n",
    "    count = 1\n",
    "    for i in np.arange(0,1, bin_step):\n",
    "        if i == 0:\n",
    "            data.loc[col.between(i, (i+bin_step), 'both'), bin_name] = count\n",
    "        else:\n",
    "            data.loc[col.between(i, (i+bin_step), 'right'), bin_name] = count\n",
    "        count = count + 1\n",
    "    return data"
   ]
  },
  {
   "cell_type": "markdown",
   "metadata": {},
   "source": [
    "Import neongreen foci position and intensity data and inspect the data"
   ]
  },
  {
   "cell_type": "code",
   "execution_count": null,
   "metadata": {},
   "outputs": [],
   "source": [
    "# position data\n",
    "neongreen_coloc_positions = pd.read_csv('', engine='python', header=0)\n",
    "neongreen_coloc_positions = neongreen_coloc_positions[neongreen_coloc_positions.columns[0:3]]\n",
    "neongreen_coloc_positions.columns = ['proteinx', 'proteiny', 'proteinz']\n",
    "print(neongreen_coloc_positions)\n",
    "\n",
    "# intensity data\n",
    "neongreen_coloc_intensities = pd.read_csv('', engine='python', header=0)\n",
    "neongreen_coloc_intensities = neongreen_coloc_intensities[neongreen_coloc_intensities.columns[0:1]]\n",
    "neongreen_coloc_intensities.columns = ['intensity_sum']\n",
    "print(neongreen_coloc_intensities)\n",
    "\n",
    "# create a larger dataframe with all data\n",
    "frames = [neongreen_coloc_positions, neongreen_coloc_intensities]\n",
    "neongreen_coloc = pd.concat(frames, axis=1)\n",
    "print(neongreen_coloc)"
   ]
  },
  {
   "cell_type": "markdown",
   "metadata": {},
   "source": [
    "Background correct the data"
   ]
  },
  {
   "cell_type": "code",
   "execution_count": null,
   "metadata": {},
   "outputs": [],
   "source": [
    "# read in background intensity data and calculate average BG\n",
    "background_spot_intensities = pd.read_csv('', engine='python', header=0)\n",
    "background_spot_intensities.columns = ['intensity_sum']\n",
    "print(background_spot_intensities)\n",
    "\n",
    "boxplot = background_spot_intensities.boxplot(column=['intensity_sum'])\n",
    "\n",
    "mean_bg = background_spot_intensities['intensity_sum'].mean()\n",
    "median_bg = background_spot_intensities['intensity_sum'].median()\n",
    "\n",
    "print(mean_bg)\n",
    "print(median_bg)\n",
    "\n",
    "# background correct intensity data\n",
    "neongreen_coloc['intensity_sum'] = neongreen_coloc['intensity_sum'] - median_bg\n",
    "neongreen_coloc = neongreen_coloc[neongreen_coloc['intensity_sum'] > 0]\n",
    "print(neongreen_coloc)"
   ]
  },
  {
   "cell_type": "code",
   "execution_count": null,
   "metadata": {},
   "outputs": [],
   "source": [
    "# visualise the data to work out angles to rotate and flip below\n",
    "plot = sns.scatterplot(x = neongreen_coloc.proteinx, y = neongreen_coloc.proteiny, hue = neongreen_coloc.intensity_sum)"
   ]
  },
  {
   "cell_type": "markdown",
   "metadata": {},
   "source": [
    "Rotate data to correctly orient embryo in AP and DV (user to define angle and whether flipping is necessary)"
   ]
  },
  {
   "cell_type": "code",
   "execution_count": null,
   "metadata": {},
   "outputs": [],
   "source": [
    "degrees_to_rotate = -45 # change this depending on graph above (angle in degrees)\n",
    "flip_embryo_in_AP = 'true' # change this to false if it doesn't need flipping in AP 'true' OR 'false'\n",
    "flip_embryo_in_DV = 'true' # change this to false if it doesn't need flipping in DV 'true' OR 'false'\n",
    "\n",
    "# rotate data\n",
    "rotated_data = rotate_embryo(neongreen_coloc, neongreen_coloc.proteinx, neongreen_coloc.proteiny, np.radians(degrees_to_rotate), flip_embryo_in_AP , flip_embryo_in_DV)\n",
    "\n",
    "# visualise data correctly oriented (hopefully)\n",
    "sns.set_theme(rc={'figure.figsize':(10,4)})\n",
    "plot = sns.scatterplot(x = rotated_data.xrot, y = rotated_data.yrot)"
   ]
  },
  {
   "cell_type": "markdown",
   "metadata": {},
   "source": [
    "Import neongreen foci assigned to closest nucleus (output from spotMe script)"
   ]
  },
  {
   "cell_type": "code",
   "execution_count": null,
   "metadata": {},
   "outputs": [],
   "source": [
    "# import data with foci assigned to nuclei\n",
    "ng_per_nucleus = pd.read_csv('', engine='python', header=0)\n",
    "ng_per_nucleus = ng_per_nucleus.drop(columns=['spot', 'Unnamed: 0'])\n",
    "print(ng_per_nucleus)\n",
    "\n",
    "# merge with positional and intensity data from above\n",
    "total_data = pd.merge(neongreen_coloc, ng_per_nucleus,  how='left', left_on=['proteinx','proteiny', 'proteinz'], right_on = ['x','y', 'z'])\n",
    "print(total_data)"
   ]
  },
  {
   "cell_type": "markdown",
   "metadata": {},
   "source": [
    "Determine total intensity of neongreen foci per nucleus"
   ]
  },
  {
   "cell_type": "code",
   "execution_count": null,
   "metadata": {},
   "outputs": [],
   "source": [
    "# sum the total intensity of all neongreen foci in a single nucleus\n",
    "\n",
    "summed_intensity_per_nuc = total_data.groupby('nuc')['intensity_sum'].sum()\n",
    "summed_intensity_per_nuc = pd.DataFrame(summed_intensity_per_nuc)\n",
    "summed_intensity_per_nuc.reset_index(inplace=True)\n",
    "summed_intensity_per_nuc.columns = ['nuc', 'intensity_sum_per_nuc']\n",
    "\n",
    "total_data = pd.merge(total_data, summed_intensity_per_nuc,  how='left', on='nuc')\n",
    "total_data = total_data.drop(columns=['proteinx', 'proteiny', 'proteinz', 'intensity_sum', 'xrot', 'yrot', 'num_spots', 'x', 'y', 'z'])\n",
    "total_data.drop_duplicates(inplace=True)\n",
    "\n",
    "ng_per_nucleus = ng_per_nucleus.drop(columns=['x', 'y', 'z'])\n",
    "ng_per_nucleus.drop_duplicates(inplace=True)\n",
    "\n",
    "# merge back to all nuclei to include those with no neongreen foci \n",
    "total_data = pd.merge(ng_per_nucleus, total_data,  how='left', on=['nuc', 'nuc_x', 'nuc_y', 'nuc_z'])\n",
    "total_data['intensity_sum_per_nuc'] = total_data['intensity_sum_per_nuc'].fillna(0)\n",
    "print(total_data)"
   ]
  },
  {
   "cell_type": "markdown",
   "metadata": {},
   "source": [
    "Rotate and normalise the nuclear data (to correctly orient embryo in AP and DV)"
   ]
  },
  {
   "cell_type": "code",
   "execution_count": null,
   "metadata": {},
   "outputs": [],
   "source": [
    "# rotate data to correctly orient in AP (as above but for the nuclear summed data)\n",
    "rotated_data_nuc = rotate_embryo(total_data, total_data.nuc_x, total_data.nuc_y, np.radians(degrees_to_rotate), flip_embryo_in_AP , flip_embryo_in_DV)\n",
    "\n",
    "# normalise data and plot heatmap of total ng intensity per nucleus across whole embryo\n",
    "rotated_data_nuc_normalised = normalise_data_2D(rotated_data_nuc, rotated_data_nuc['xrot'], rotated_data_nuc['yrot'])\n",
    "plot = plot_heatmap(rotated_data_nuc_normalised.xnorm, rotated_data_nuc_normalised.ynorm, (8.5,4), rotated_data_nuc_normalised.intensity_sum_per_nuc, 'AP position', 'DV position','true') # change to false if not saving fig"
   ]
  },
  {
   "cell_type": "markdown",
   "metadata": {},
   "source": [
    "Crop the data between 0.2 and 0.8 along the AP axis before binning and averaging across the DV axis"
   ]
  },
  {
   "cell_type": "code",
   "execution_count": null,
   "metadata": {},
   "outputs": [],
   "source": [
    "# crop in AP\n",
    "rotated_data_nuc_normalised_cropped_AP = rotated_data_nuc_normalised[rotated_data_nuc_normalised.xnorm > 0.2]\n",
    "rotated_data_nuc_normalised_cropped_AP = rotated_data_nuc_normalised_cropped_AP[rotated_data_nuc_normalised_cropped_AP.xnorm < 0.8]\n",
    "\n",
    "# bin data in DV\n",
    "ng_binned_DV = bin_data(rotated_data_nuc_normalised_cropped_AP, rotated_data_nuc_normalised_cropped_AP['ynorm'], 12, 'DVBin')\n",
    "ng_binned_DV['DVBin'] = ng_binned_DV['DVBin'].apply(lambda x: math.floor(x))\n",
    "print(ng_binned_DV)\n",
    "\n",
    "# output summary table of means and stdev\n",
    "output = ng_binned_DV.groupby(['DVBin'], as_index=False).agg({'intensity_sum_per_nuc':['mean','std']})\n",
    "print(output)"
   ]
  },
  {
   "cell_type": "markdown",
   "metadata": {},
   "source": [
    "Plot the mean ng intensity per nucleus in 12 bins across the DV axis"
   ]
  },
  {
   "cell_type": "code",
   "execution_count": null,
   "metadata": {},
   "outputs": [],
   "source": [
    "# plot the mean +/- sem neongreen intensity per nucleus in bins across the DV axis\n",
    "\n",
    "sns.set_theme(rc={'figure.figsize':(6,4)})\n",
    "sns.set_theme(rc={\"lines.linewidth\": 0.7})\n",
    "sns.set_style(style='white')\n",
    "ax = sns.pointplot(x=ng_binned_DV.DVBin, y=ng_binned_DV.intensity_sum_per_nuc, color='mediumseagreen', scale=2, capsize=0.2)\n",
    "ax.grid(False)\n",
    "ax.set_xlabel('DV bin number', size=14)\n",
    "ax.set_ylabel('Total intensity of TSs per nuc (AU)', size=14)\n",
    "ax.tick_params(axis='both', which='major', labelsize=14)\n",
    "plt.savefig('e1_bin_plot.png', dpi=1200) # comment out if not saving fig"
   ]
  }
 ],
 "metadata": {
  "kernelspec": {
   "display_name": "base",
   "language": "python",
   "name": "python3"
  },
  "language_info": {
   "codemirror_mode": {
    "name": "ipython",
    "version": 3
   },
   "file_extension": ".py",
   "mimetype": "text/x-python",
   "name": "python",
   "nbconvert_exporter": "python",
   "pygments_lexer": "ipython3",
   "version": "3.7.4"
  }
 },
 "nbformat": 4,
 "nbformat_minor": 2
}
