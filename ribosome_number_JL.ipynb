{
 "cells": [
  {
   "cell_type": "markdown",
   "id": "dc2e95de",
   "metadata": {},
   "source": [
    "ribosome number analysis\n",
    "01.25\n",
    "\n",
    "@author: jennifer love"
   ]
  },
  {
   "cell_type": "markdown",
   "id": "815d0dee",
   "metadata": {},
   "source": [
    "This script calculates the number of ribosomes present on an mRNA using the SunTag method; colocalised mRNA and neongreen (protein) signals represent translating mRNAs. Through normalisation of the number of single protein and mRNA molcules in a translation site, the number of ribosomes per mRNA is calculated.\n",
    "\n",
    "This first portion of this script is adapted from DaisyVinter/thesis/ribosome_number.ipynb but differs in terms of the ribosome number calculation."
   ]
  },
  {
   "cell_type": "code",
   "execution_count": 12,
   "id": "7243b278",
   "metadata": {},
   "outputs": [],
   "source": [
    "# load relevant packages\n",
    "import pandas as pd\n",
    "import scipy.spatial.distance\n",
    "import scipy.optimize\n",
    "import numpy as np\n",
    "import matplotlib as mpl\n",
    "import matplotlib.pyplot as plt\n",
    "import seaborn as sns\n",
    "\n",
    "#setting global plotting parameters\n",
    "mpl.rc('font',family='Arial', size=14)\n",
    "csfont = {'fontname': 'Arial'}\n",
    "\n",
    "# output directory\n",
    "folder = ''\n",
    "\n",
    "# specify file locations\n",
    "mrna_file = '' # mRNA data\n",
    "bright_file = '' # single protein neongreen foci \n",
    "single_file = '' # bright neongreen foci (translation sites)\n",
    "\n",
    "# input image voxels\n",
    "xy_pixel = 0.014\n",
    "z_pixel = 0.2"
   ]
  },
  {
   "cell_type": "markdown",
   "id": "da3b8136",
   "metadata": {},
   "source": [
    "Read in and prepare data"
   ]
  },
  {
   "cell_type": "code",
   "execution_count": 2,
   "id": "8ee54a08-c724-423c-b021-e1874522b593",
   "metadata": {},
   "outputs": [],
   "source": [
    "# read in data and rename columns, remove -8 intensity values\n",
    "mrna = pd.read_csv(mrna_file, sep = '  ', engine = 'python', names = ['x', 'y', 'z', 'intensity', ''])\n",
    "brights = pd.read_csv(bright_file, sep = '  ', engine = 'python', names = ['x', 'y', 'z', 'intensity', ''])\n",
    "singles = pd.read_csv(single_file, sep = '  ', engine = 'python', names = ['x', 'y', 'z', 'intensity', ''])\n",
    "mrna = mrna.loc[mrna['intensity'] != -8]\n",
    "brights = brights.loc[brights['intensity'] != -8]\n",
    "singles = singles.loc[singles['intensity'] != -8]\n",
    "\n",
    "# convert to um using pixel dimensions\n",
    "mrna['x'] = mrna['x']*xy_pixel\n",
    "mrna['y'] = mrna['y']*xy_pixel\n",
    "mrna['z'] = mrna['z']*z_pixel\n",
    "brights['x'] = brights['x']*xy_pixel\n",
    "brights['y'] = brights['y']*xy_pixel\n",
    "brights['z'] = brights['z']*z_pixel\n",
    "singles['x'] = singles['x']*xy_pixel\n",
    "singles['y'] = singles['y']*xy_pixel\n",
    "singles['z'] = singles['z']*z_pixel\n",
    "\n",
    "# remove bright translation sites from the full data to give just single proteins\n",
    "just_singles = singles[~singles.isin(brights)].dropna()\n",
    "\n",
    "# create data just based on position, without intensity etc\n",
    "\n",
    "mrna_pos = np.array(mrna[['x', 'y', 'z']])\n",
    "singles_pos = np.array(singles[['x', 'y', 'z']])\n",
    "brights_pos = np.array(brights[['x', 'y', 'z']])"
   ]
  },
  {
   "cell_type": "markdown",
   "id": "dd1757e4",
   "metadata": {},
   "source": [
    "Assess colocalisation of mRNAs and single protein signals"
   ]
  },
  {
   "cell_type": "code",
   "execution_count": null,
   "id": "2e25e1d9-44ac-43b5-885b-f5739c5eda1f",
   "metadata": {},
   "outputs": [],
   "source": [
    "# assess colocalisation of singles and mRNAs\n",
    "\n",
    "distances = scipy.spatial.distance.cdist(singles_pos, mrna_pos, metric = 'euclidean')\n",
    "opt_index = scipy.optimize.linear_sum_assignment(distances)\n",
    "\n",
    "min_dist = []\n",
    "for i in zip(opt_index[0], opt_index[1]):\n",
    "    min_dist.append(distances[i])\n",
    "\n",
    "for i in zip(opt_index[0], opt_index[1]):\n",
    "    singles.loc[i[0], 'closest_mrna'] = i[1]\n",
    "    mrna.loc[i[1], 'closest_ng'] = i[0]\n",
    "    singles.loc[i[0], 'distance'] = distances[i]\n",
    "    mrna.loc[i[1], 'distance'] = distances[i]\n",
    "\n",
    "coloc = singles.loc[singles['distance'] <= 0.4]\n",
    "non_coloc = singles[~singles.isin(coloc)].dropna(subset = ['x'])\n",
    "\n",
    "print(coloc)"
   ]
  },
  {
   "cell_type": "markdown",
   "id": "0143b11d",
   "metadata": {},
   "source": [
    "Assess colocalisation of mRNAs and bright neongreen foci"
   ]
  },
  {
   "cell_type": "code",
   "execution_count": 4,
   "id": "d6766716-d603-49c0-9358-727d8c29c682",
   "metadata": {},
   "outputs": [],
   "source": [
    "# assess colocalisation of translation sites and mRNAs\n",
    "\n",
    "distances_bright = scipy.spatial.distance.cdist(brights_pos, mrna_pos, metric = 'euclidean')\n",
    "opt_index_bright = scipy.optimize.linear_sum_assignment(distances_bright)\n",
    "\n",
    "min_dist = []\n",
    "for i in zip(opt_index_bright[0], opt_index_bright[1]):\n",
    "    min_dist.append(distances_bright[i])\n",
    "\n",
    "for i in zip(opt_index_bright[0], opt_index_bright[1]):\n",
    "    brights.loc[i[0], 'closest_mrna'] = i[1]\n",
    "    mrna.loc[i[1], 'closest_bright'] = i[0]\n",
    "    brights.loc[i[0], 'distance'] = distances_bright[i]\n",
    "    mrna.loc[i[1], 'distance_to_bright'] = distances_bright[i]\n",
    "\n",
    "bright_coloc = brights.loc[brights['distance'] <= 0.4]\n",
    "bright_no_coloc = brights[~brights.isin(bright_coloc)].dropna(subset = ['x'])"
   ]
  },
  {
   "cell_type": "markdown",
   "id": "4c22bfd9",
   "metadata": {},
   "source": [
    "Calculate ribosome number, taking into account number of mRNAs in each translation site (important for aggregates of mRNAs)"
   ]
  },
  {
   "cell_type": "code",
   "execution_count": null,
   "id": "4c3e4b2a",
   "metadata": {},
   "outputs": [],
   "source": [
    "# retrieve the mRNA intensity data\n",
    "\n",
    "mrna['IDs'] = [str(i) for i in range(0, mrna.shape[0])]\n",
    "print(mrna)\n",
    "mrna = mrna.rename(columns={\"intensity\": \"mrna_intensity\"})\n",
    "mrna['IDs'] = mrna['IDs'].astype(float)\n",
    "\n",
    "# merge the colocalised translation sites with the mRNA data to give paired measurements of intensity\n",
    "\n",
    "coloc_brights_mRNAs = bright_coloc.merge(mrna, left_on='closest_mrna', right_on='IDs')\n",
    "print(coloc_brights_mRNAs)\n",
    "\n",
    "# merge the colocalised single proteins with the mRNA data to give paired measurements of intensity\n",
    "\n",
    "coloc_singles_mRNAs = coloc.merge(mrna, left_on='closest_mrna', right_on='IDs')\n",
    "print(coloc_singles_mRNAs)"
   ]
  },
  {
   "cell_type": "code",
   "execution_count": null,
   "id": "a7f8aa22",
   "metadata": {},
   "outputs": [],
   "source": [
    "# extract the intensities of a single protein and a single mRNA for normalisation\n",
    "\n",
    "single_protein = just_singles['intensity'].median()\n",
    "print(single_protein)\n",
    "single_mrna = mrna['mrna_intensity'].median()\n",
    "print(single_mrna)"
   ]
  },
  {
   "cell_type": "markdown",
   "id": "6cc10d9d",
   "metadata": {},
   "source": [
    "Plot the distributions of mRNAs and single proteins to ensure the median is representative for normalisation"
   ]
  },
  {
   "cell_type": "code",
   "execution_count": null,
   "id": "1850b72e",
   "metadata": {},
   "outputs": [],
   "source": [
    "# plotting the median mRNA intensity on the distribution (to check its at the peak)\n",
    "plt.hist(mrna['mrna_intensity'], bins=100)\n",
    "plt.axvline(x = single_mrna, c = 'red')\n",
    "plt.show()"
   ]
  },
  {
   "cell_type": "code",
   "execution_count": null,
   "id": "304db1df",
   "metadata": {},
   "outputs": [],
   "source": [
    "# plotting the median single protein intensity on the distribution (to check its at the peak)\n",
    "plt.hist(just_singles['intensity'], bins=70)\n",
    "plt.axvline(x = single_protein, c = 'red')\n",
    "plt.show()"
   ]
  },
  {
   "cell_type": "code",
   "execution_count": 9,
   "id": "5094982b",
   "metadata": {},
   "outputs": [],
   "source": [
    "# normalise the full protein data \n",
    "coloc_singles_mRNAs['mrna_intensity_norm'] = coloc_singles_mRNAs['mrna_intensity']/single_mrna\n",
    "coloc_singles_mRNAs['TS_intensity_norm'] = coloc_singles_mRNAs['intensity']/single_protein\n",
    "\n",
    "# normalise the bright TS data\n",
    "coloc_brights_mRNAs['mrna_intensity_norm'] = coloc_brights_mRNAs['mrna_intensity']/single_mrna\n",
    "coloc_brights_mRNAs['TS_intensity_norm'] = coloc_brights_mRNAs['intensity']/single_protein\n",
    "\n",
    "coloc_brights_mRNAs['mrna_intensity_norm'] = coloc_brights_mRNAs['mrna_intensity_norm'].round()"
   ]
  },
  {
   "cell_type": "markdown",
   "id": "33db7220",
   "metadata": {},
   "source": [
    "Plot the normalised intensities of bright translation sites against mRNAs to visualise the relationship and inspect the data"
   ]
  },
  {
   "cell_type": "code",
   "execution_count": null,
   "id": "1bada37a",
   "metadata": {},
   "outputs": [],
   "source": [
    "# Plot the normalised intensities of bright translation sites against mRNAs\n",
    "\n",
    "plt.figure(figsize=(6,4))\n",
    "p = sns.regplot(data=coloc_brights_mRNAs, x=\"mrna_intensity_norm\", y=\"TS_intensity_norm\")\n",
    "plt.ylabel('Translation site intensity (normalised)')\n",
    "plt.xlabel('mRNA intensity (normalised)')\n",
    "plt.show()\n",
    "\n",
    "# get the parameters of the regression\n",
    "slope, intercept, r, p, sterr = scipy.stats.linregress(x=p.get_lines()[0].get_xdata(), y=p.get_lines()[0].get_ydata())\n",
    "print(intercept, slope)"
   ]
  },
  {
   "cell_type": "markdown",
   "id": "7e5d70d6",
   "metadata": {},
   "source": [
    "Calculate ribosome number:"
   ]
  },
  {
   "cell_type": "code",
   "execution_count": null,
   "id": "c71481bd",
   "metadata": {},
   "outputs": [],
   "source": [
    "# Calculate ribosome number (new method - taking into account there could be more than one mRNA per translation site)\n",
    "\n",
    "correction_factor = (575*0.5 + 759)/(575 + 759) # \n",
    "\n",
    "ribosome_number = (coloc_brights_mRNAs['TS_intensity_norm']/coloc_brights_mRNAs['mrna_intensity_norm'])/correction_factor\n",
    "ribosome_number = pd.DataFrame(ribosome_number)\n",
    "ribosome_number.columns = (['Ribosome_number'])\n",
    "print(ribosome_number)\n",
    "\n",
    "ribosome_number.to_csv(folder + '/ribo_numbers.csv')"
   ]
  }
 ],
 "metadata": {
  "kernelspec": {
   "display_name": "Python 3 (ipykernel)",
   "language": "python",
   "name": "python3"
  },
  "language_info": {
   "codemirror_mode": {
    "name": "ipython",
    "version": 3
   },
   "file_extension": ".py",
   "mimetype": "text/x-python",
   "name": "python",
   "nbconvert_exporter": "python",
   "pygments_lexer": "ipython3",
   "version": "3.7.4"
  }
 },
 "nbformat": 4,
 "nbformat_minor": 5
}
