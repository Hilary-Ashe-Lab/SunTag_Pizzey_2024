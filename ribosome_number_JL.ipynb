{
 "cells": [
  {
   "cell_type": "markdown",
   "id": "dc2e95de",
   "metadata": {},
   "source": [
    "ribosome number analysis\n",
    "01.25\n",
    "\n",
    "@author: jennifer love"
   ]
  },
  {
   "cell_type": "markdown",
   "id": "815d0dee",
   "metadata": {},
   "source": [
    "This script calculates the number of ribosomes present on an mRNA using the SunTag method; colocalised mRNA and neongreen (protein) signals represent translating mRNAs. Through normalisation of the number of single protein and mRNA molcules in a translation site, the number of ribosomes per mRNA is calculated.\n",
    "\n",
    "This first portion of this script is adapted from DaisyVinter/thesis/ribosome_number.ipynb but differs in terms of the ribosome number calculation."
   ]
  },
  {
   "cell_type": "code",
   "execution_count": 12,
   "id": "7243b278",
   "metadata": {},
   "outputs": [],
   "source": [
    "# load relevant packages\n",
    "import pandas as pd\n",
    "import scipy.spatial.distance\n",
    "import scipy.optimize\n",
    "import numpy as np\n",
    "import matplotlib as mpl\n",
    "import matplotlib.pyplot as plt\n",
    "import seaborn as sns\n",
    "\n",
    "#setting global plotting parameters\n",
    "mpl.rc('font',family='Arial', size=14)\n",
    "csfont = {'fontname': 'Arial'}\n",
    "\n",
    "# output directory\n",
    "folder = ''\n",
    "\n",
    "# specify file locations\n",
    "mrna_file = '' # mRNA data\n",
    "bright_file = '' # single protein neongreen foci \n",
    "single_file = '' # bright neongreen foci (translation sites)\n",
    "\n",
    "# input image voxels\n",
    "xy_pixel = 0.014\n",
    "z_pixel = 0.2"
   ]
  },
  {
   "cell_type": "markdown",
   "id": "da3b8136",
   "metadata": {},
   "source": [
    "Read in and prepare data"
   ]
  },
  {
   "cell_type": "code",
   "execution_count": 2,
   "id": "8ee54a08-c724-423c-b021-e1874522b593",
   "metadata": {},
   "outputs": [],
   "source": [
    "# read in data and rename columns, remove -8 intensity values\n",
    "mrna = pd.read_csv(mrna_file, sep = '  ', engine = 'python', names = ['x', 'y', 'z', 'intensity', ''])\n",
    "brights = pd.read_csv(bright_file, sep = '  ', engine = 'python', names = ['x', 'y', 'z', 'intensity', ''])\n",
    "singles = pd.read_csv(single_file, sep = '  ', engine = 'python', names = ['x', 'y', 'z', 'intensity', ''])\n",
    "mrna = mrna.loc[mrna['intensity'] != -8]\n",
    "brights = brights.loc[brights['intensity'] != -8]\n",
    "singles = singles.loc[singles['intensity'] != -8]\n",
    "\n",
    "# convert to um using pixel dimensions\n",
    "mrna['x'] = mrna['x']*xy_pixel\n",
    "mrna['y'] = mrna['y']*xy_pixel\n",
    "mrna['z'] = mrna['z']*z_pixel\n",
    "brights['x'] = brights['x']*xy_pixel\n",
    "brights['y'] = brights['y']*xy_pixel\n",
    "brights['z'] = brights['z']*z_pixel\n",
    "singles['x'] = singles['x']*xy_pixel\n",
    "singles['y'] = singles['y']*xy_pixel\n",
    "singles['z'] = singles['z']*z_pixel\n",
    "\n",
    "# remove bright translation sites from the full data to give just single proteins\n",
    "just_singles = singles[~singles.isin(brights)].dropna()\n",
    "\n",
    "# create data just based on position, without intensity etc\n",
    "\n",
    "mrna_pos = np.array(mrna[['x', 'y', 'z']])\n",
    "singles_pos = np.array(singles[['x', 'y', 'z']])\n",
    "brights_pos = np.array(brights[['x', 'y', 'z']])"
   ]
  },
  {
   "cell_type": "markdown",
   "id": "dd1757e4",
   "metadata": {},
   "source": [
    "Assess colocalisation of mRNAs and single protein signals"
   ]
  },
  {
   "cell_type": "code",
   "execution_count": 3,
   "id": "2e25e1d9-44ac-43b5-885b-f5739c5eda1f",
   "metadata": {},
   "outputs": [
    {
     "name": "stdout",
     "output_type": "stream",
     "text": [
      "              x          y         z    intensity       closest_mrna  distance\n",
      "0      2.521435   9.008597  2.826460  242264.8300  0.0          28.0  0.076180\n",
      "1      6.063649   2.946909  3.709127  183349.7900  0.0         254.0  0.141308\n",
      "2     15.038078   8.239662  2.826308  159485.4200  0.0          76.0  0.117092\n",
      "3      5.771552  10.577196  2.494961  158206.2900  0.0         158.0  0.075810\n",
      "5      4.423361  13.103161  6.760079  145390.6400  0.0         451.0  0.078927\n",
      "...         ...        ...       ...          ...  ...           ...       ...\n",
      "7606  13.728655  13.033349  6.810947    1615.5205  0.0         700.0  0.317520\n",
      "7608  13.484524   0.024414  7.093051    1592.5241  0.0         809.0  0.223943\n",
      "7624   0.021242  13.673065  7.948875    1469.0588  0.0        1120.0  0.155624\n",
      "7630  15.217090   7.514636  5.099355    1435.1043  0.0        1403.0  0.390462\n",
      "7638   6.453901  14.863552  6.779960    1386.4576  0.0         948.0  0.220375\n",
      "\n",
      "[1118 rows x 7 columns]\n"
     ]
    }
   ],
   "source": [
    "# assess colocalisation of singles and mRNAs\n",
    "\n",
    "distances = scipy.spatial.distance.cdist(singles_pos, mrna_pos, metric = 'euclidean')\n",
    "opt_index = scipy.optimize.linear_sum_assignment(distances)\n",
    "\n",
    "min_dist = []\n",
    "for i in zip(opt_index[0], opt_index[1]):\n",
    "    min_dist.append(distances[i])\n",
    "\n",
    "for i in zip(opt_index[0], opt_index[1]):\n",
    "    singles.loc[i[0], 'closest_mrna'] = i[1]\n",
    "    mrna.loc[i[1], 'closest_ng'] = i[0]\n",
    "    singles.loc[i[0], 'distance'] = distances[i]\n",
    "    mrna.loc[i[1], 'distance'] = distances[i]\n",
    "\n",
    "coloc = singles.loc[singles['distance'] <= 0.4]\n",
    "non_coloc = singles[~singles.isin(coloc)].dropna(subset = ['x'])\n",
    "\n",
    "print(coloc)"
   ]
  },
  {
   "cell_type": "markdown",
   "id": "0143b11d",
   "metadata": {},
   "source": [
    "Assess colocalisation of mRNAs and bright neongreen foci"
   ]
  },
  {
   "cell_type": "code",
   "execution_count": 4,
   "id": "d6766716-d603-49c0-9358-727d8c29c682",
   "metadata": {},
   "outputs": [],
   "source": [
    "# assess colocalisation of translation sites and mRNAs\n",
    "\n",
    "distances_bright = scipy.spatial.distance.cdist(brights_pos, mrna_pos, metric = 'euclidean')\n",
    "opt_index_bright = scipy.optimize.linear_sum_assignment(distances_bright)\n",
    "\n",
    "min_dist = []\n",
    "for i in zip(opt_index_bright[0], opt_index_bright[1]):\n",
    "    min_dist.append(distances_bright[i])\n",
    "\n",
    "for i in zip(opt_index_bright[0], opt_index_bright[1]):\n",
    "    brights.loc[i[0], 'closest_mrna'] = i[1]\n",
    "    mrna.loc[i[1], 'closest_bright'] = i[0]\n",
    "    brights.loc[i[0], 'distance'] = distances_bright[i]\n",
    "    mrna.loc[i[1], 'distance_to_bright'] = distances_bright[i]\n",
    "\n",
    "bright_coloc = brights.loc[brights['distance'] <= 0.4]\n",
    "bright_no_coloc = brights[~brights.isin(bright_coloc)].dropna(subset = ['x'])"
   ]
  },
  {
   "cell_type": "markdown",
   "id": "4c22bfd9",
   "metadata": {},
   "source": [
    "Calculate ribosome number, taking into account number of mRNAs in each translation site (important for aggregates of mRNAs)"
   ]
  },
  {
   "cell_type": "code",
   "execution_count": 5,
   "id": "4c3e4b2a",
   "metadata": {},
   "outputs": [
    {
     "name": "stdout",
     "output_type": "stream",
     "text": [
      "              x          y          z      intensity       closest_ng  \\\n",
      "0      7.409374   0.408725   5.609327  125043.990000  0.0      4922.0   \n",
      "1      8.594835  11.105344   4.899188  113090.100000  0.0      1067.0   \n",
      "2      2.888920  12.845323   5.702648  111765.140000  0.0      7227.0   \n",
      "3      6.903240   7.693378   5.376440  106457.640000  0.0      4899.0   \n",
      "4      2.851314  13.019270   5.776153   86473.707000  0.0      3017.0   \n",
      "...         ...        ...        ...            ...  ...         ...   \n",
      "1774  13.948655   6.920365  10.211299      15.535040  0.0      3781.0   \n",
      "1775   9.397767  10.709658   5.652876      14.448876  0.0      4709.0   \n",
      "1776  11.008440  14.895692   2.777001      14.109966  0.0      3798.0   \n",
      "1777  11.349011  10.889826   4.838968      13.774687  0.0      6695.0   \n",
      "1778   4.196058   7.525940   3.513815       9.369816  0.0      2882.0   \n",
      "\n",
      "      distance  closest_bright  distance_to_bright   IDs  \n",
      "0     0.439301             NaN                 NaN     0  \n",
      "1     0.345621             NaN                 NaN     1  \n",
      "2     0.310408             NaN                 NaN     2  \n",
      "3     0.204210             NaN                 NaN     3  \n",
      "4     0.323051             NaN                 NaN     4  \n",
      "...        ...             ...                 ...   ...  \n",
      "1774  0.374466             NaN                 NaN  1774  \n",
      "1775  0.242909             NaN                 NaN  1775  \n",
      "1776  0.364204             NaN                 NaN  1776  \n",
      "1777  0.352993             NaN                 NaN  1777  \n",
      "1778  0.309932             NaN                 NaN  1778  \n",
      "\n",
      "[1779 rows x 10 columns]\n",
      "           x_x        y_x       z_x   intensity   _x  closest_mrna  \\\n",
      "0     2.521221   9.009661  2.839642  229285.440  0.0          28.0   \n",
      "1     6.063589   2.947620  3.714042  180136.200  0.0         254.0   \n",
      "2     5.771795  10.576869  2.491447  151923.120  0.0         158.0   \n",
      "3    15.037743   8.241529  2.840731  151644.690  0.0          76.0   \n",
      "4     4.423150  13.103555  6.760884  147892.910  0.0         451.0   \n",
      "..         ...        ...       ...         ...  ...           ...   \n",
      "355   0.876703  14.374331  9.963100   30461.604  0.0         347.0   \n",
      "356  15.200532   6.800508  2.227946   29842.144  0.0         454.0   \n",
      "357   0.039238  14.929708  4.688561   28509.441  0.0        1360.0   \n",
      "358   8.786007  13.827563  6.559712   27567.078  0.0         613.0   \n",
      "359   0.029959   0.049883  6.521576   22148.662  0.0        1314.0   \n",
      "\n",
      "     distance_x        x_y        y_y       z_y  mrna_intensity   _y  \\\n",
      "0      0.088091   2.491872   9.021160  2.757383       6771.3585  0.0   \n",
      "1      0.141999   5.924911   2.925365  3.693139       4014.9563  0.0   \n",
      "2      0.072600   5.756832  10.594888  2.422729       4457.9610  0.0   \n",
      "3      0.129229  14.978879   8.198787  2.733922       5158.4716  0.0   \n",
      "4      0.079809   4.434146  13.050777  6.702036       3523.4379  0.0   \n",
      "..          ...        ...        ...       ...             ...  ...   \n",
      "355    0.095051   0.854602  14.384290  9.871193       3737.3618  0.0   \n",
      "356    0.156750  15.165632   6.778158  2.076773       3522.8843  0.0   \n",
      "357    0.319270   0.034143  14.890201  4.371785       1163.3837  0.0   \n",
      "358    0.333881   8.806567  13.690734  6.863573       3242.1944  0.0   \n",
      "359    0.331689   0.030307   0.035676  6.190191       1627.6647  0.0   \n",
      "\n",
      "     closest_ng  distance_y  closest_bright  distance_to_bright     IDs  \n",
      "0           0.0    0.076180             0.0            0.088091    28.0  \n",
      "1           1.0    0.141308             1.0            0.141999   254.0  \n",
      "2           3.0    0.075810             2.0            0.072600   158.0  \n",
      "3           2.0    0.117092             3.0            0.129229    76.0  \n",
      "4           5.0    0.078927             4.0            0.079809   451.0  \n",
      "..          ...         ...             ...                 ...     ...  \n",
      "355       415.0    0.084943           376.0            0.095051   347.0  \n",
      "356       411.0    0.158186           378.0            0.156750   454.0  \n",
      "357       418.0    0.311173           380.0            0.319270  1360.0  \n",
      "358      3719.0    0.411160           382.0            0.333881   613.0  \n",
      "359       523.0    0.329834           386.0            0.331689  1314.0  \n",
      "\n",
      "[360 rows x 17 columns]\n",
      "            x_x        y_x       z_x    intensity   _x  closest_mrna  \\\n",
      "0      2.521435   9.008597  2.826460  242264.8300  0.0          28.0   \n",
      "1      6.063649   2.946909  3.709127  183349.7900  0.0         254.0   \n",
      "2     15.038078   8.239662  2.826308  159485.4200  0.0          76.0   \n",
      "3      5.771552  10.577196  2.494961  158206.2900  0.0         158.0   \n",
      "4      4.423361  13.103161  6.760079  145390.6400  0.0         451.0   \n",
      "...         ...        ...       ...          ...  ...           ...   \n",
      "1113  13.728655  13.033349  6.810947    1615.5205  0.0         700.0   \n",
      "1114  13.484524   0.024414  7.093051    1592.5241  0.0         809.0   \n",
      "1115   0.021242  13.673065  7.948875    1469.0588  0.0        1120.0   \n",
      "1116  15.217090   7.514636  5.099355    1435.1043  0.0        1403.0   \n",
      "1117   6.453901  14.863552  6.779960    1386.4576  0.0         948.0   \n",
      "\n",
      "      distance_x        x_y        y_y       z_y  mrna_intensity   _y  \\\n",
      "0       0.076180   2.491872   9.021160  2.757383      6771.35850  0.0   \n",
      "1       0.141308   5.924911   2.925365  3.693139      4014.95630  0.0   \n",
      "2       0.117092  14.978879   8.198787  2.733922      5158.47160  0.0   \n",
      "3       0.075810   5.756832  10.594888  2.422729      4457.96100  0.0   \n",
      "4       0.078927   4.434146  13.050777  6.702036      3523.43790  0.0   \n",
      "...          ...        ...        ...       ...             ...  ...   \n",
      "1113    0.317520  13.860402  13.082374  6.526240      3110.72600  0.0   \n",
      "1114    0.223943  13.397103   0.184654  7.222786      2925.02180  0.0   \n",
      "1115    0.155624   0.040480  13.630053  8.097194      2374.35320  0.0   \n",
      "1116    0.390462  15.219957   7.779530  5.386206       728.38342  0.0   \n",
      "1117    0.220375   6.523863  14.692181  6.660367      2713.96550  0.0   \n",
      "\n",
      "      closest_ng  distance_y  closest_bright  distance_to_bright     IDs  \n",
      "0            0.0    0.076180             0.0            0.088091    28.0  \n",
      "1            1.0    0.141308             1.0            0.141999   254.0  \n",
      "2            2.0    0.117092             3.0            0.129229    76.0  \n",
      "3            3.0    0.075810             2.0            0.072600   158.0  \n",
      "4            5.0    0.078927             4.0            0.079809   451.0  \n",
      "...          ...         ...             ...                 ...     ...  \n",
      "1113      7606.0    0.317520             NaN                 NaN   700.0  \n",
      "1114      7608.0    0.223943             NaN                 NaN   809.0  \n",
      "1115      7624.0    0.155624             NaN                 NaN  1120.0  \n",
      "1116      7630.0    0.390462             NaN                 NaN  1403.0  \n",
      "1117      7638.0    0.220375             NaN                 NaN   948.0  \n",
      "\n",
      "[1118 rows x 17 columns]\n"
     ]
    }
   ],
   "source": [
    "# retrieve the mRNA intensity data\n",
    "\n",
    "mrna['IDs'] = [str(i) for i in range(0, mrna.shape[0])]\n",
    "print(mrna)\n",
    "mrna = mrna.rename(columns={\"intensity\": \"mrna_intensity\"})\n",
    "mrna['IDs'] = mrna['IDs'].astype(float)\n",
    "\n",
    "# merge the colocalised translation sites with the mRNA data to give paired measurements of intensity\n",
    "\n",
    "coloc_brights_mRNAs = bright_coloc.merge(mrna, left_on='closest_mrna', right_on='IDs')\n",
    "print(coloc_brights_mRNAs)\n",
    "\n",
    "# merge the colocalised single proteins with the mRNA data to give paired measurements of intensity\n",
    "\n",
    "coloc_singles_mRNAs = coloc.merge(mrna, left_on='closest_mrna', right_on='IDs')\n",
    "print(coloc_singles_mRNAs)"
   ]
  },
  {
   "cell_type": "code",
   "execution_count": 6,
   "id": "a7f8aa22",
   "metadata": {},
   "outputs": [
    {
     "name": "stdout",
     "output_type": "stream",
     "text": [
      "5629.2823\n",
      "2817.1673\n"
     ]
    }
   ],
   "source": [
    "# extract the intensities of a single protein and a single mRNA for normalisation\n",
    "\n",
    "single_protein = just_singles['intensity'].median()\n",
    "print(single_protein)\n",
    "single_mrna = mrna['mrna_intensity'].median()\n",
    "print(single_mrna)"
   ]
  },
  {
   "cell_type": "markdown",
   "id": "6cc10d9d",
   "metadata": {},
   "source": [
    "Plot the distributions of mRNAs and single proteins to ensure the median is representative for normalisation"
   ]
  },
  {
   "cell_type": "code",
   "execution_count": 7,
   "id": "1850b72e",
   "metadata": {},
   "outputs": [
    {
     "data": {
      "image/png": "[encoded data removed]",
      "text/plain": [
       "<Figure size 432x288 with 1 Axes>"
      ]
     },
     "metadata": {
      "needs_background": "light"
     },
     "output_type": "display_data"
    }
   ],
   "source": [
    "# plotting the median mRNA intensity on the distribution (to check its at the peak)\n",
    "plt.hist(mrna['mrna_intensity'], bins=100)\n",
    "plt.axvline(x = single_mrna, c = 'red')\n",
    "plt.show()"
   ]
  },
  {
   "cell_type": "code",
   "execution_count": 8,
   "id": "304db1df",
   "metadata": {},
   "outputs": [
    {
     "data": {
      "image/png": "[encoded data removed]",
      "text/plain": [
       "<Figure size 432x288 with 1 Axes>"
      ]
     },
     "metadata": {
      "needs_background": "light"
     },
     "output_type": "display_data"
    }
   ],
   "source": [
    "# plotting the median single protein intensity on the distribution (to check its at the peak)\n",
    "plt.hist(just_singles['intensity'], bins=70)\n",
    "plt.axvline(x = single_protein, c = 'red')\n",
    "plt.show()"
   ]
  },
  {
   "cell_type": "code",
   "execution_count": 9,
   "id": "5094982b",
   "metadata": {},
   "outputs": [],
   "source": [
    "# normalise the full protein data \n",
    "coloc_singles_mRNAs['mrna_intensity_norm'] = coloc_singles_mRNAs['mrna_intensity']/single_mrna\n",
    "coloc_singles_mRNAs['TS_intensity_norm'] = coloc_singles_mRNAs['intensity']/single_protein\n",
    "\n",
    "# normalise the bright TS data\n",
    "coloc_brights_mRNAs['mrna_intensity_norm'] = coloc_brights_mRNAs['mrna_intensity']/single_mrna\n",
    "coloc_brights_mRNAs['TS_intensity_norm'] = coloc_brights_mRNAs['intensity']/single_protein\n",
    "\n",
    "coloc_brights_mRNAs['mrna_intensity_norm'] = coloc_brights_mRNAs['mrna_intensity_norm'].round()"
   ]
  },
  {
   "cell_type": "markdown",
   "id": "33db7220",
   "metadata": {},
   "source": [
    "Plot the normalised intensities of bright translation sites against mRNAs to visualise the relationship and inspect the data"
   ]
  },
  {
   "cell_type": "code",
   "execution_count": 10,
   "id": "1bada37a",
   "metadata": {},
   "outputs": [
    {
     "data": {
      "image/png": "[encoded data removed]",
      "text/plain": [
       "<Figure size 432x288 with 1 Axes>"
      ]
     },
     "metadata": {
      "needs_background": "light"
     },
     "output_type": "display_data"
    },
    {
     "name": "stdout",
     "output_type": "stream",
     "text": [
      "4.792532829680736 6.94006983173687\n"
     ]
    }
   ],
   "source": [
    "# Plot the normalised intensities of bright translation sites against mRNAs\n",
    "\n",
    "plt.figure(figsize=(6,4))\n",
    "p = sns.regplot(data=coloc_brights_mRNAs, x=\"mrna_intensity_norm\", y=\"TS_intensity_norm\")\n",
    "plt.ylabel('Translation site intensity (normalised)')\n",
    "plt.xlabel('mRNA intensity (normalised)')\n",
    "plt.show()\n",
    "\n",
    "# get the parameters of the regression\n",
    "slope, intercept, r, p, sterr = scipy.stats.linregress(x=p.get_lines()[0].get_xdata(), y=p.get_lines()[0].get_ydata())\n",
    "print(intercept, slope)"
   ]
  },
  {
   "cell_type": "markdown",
   "id": "7e5d70d6",
   "metadata": {},
   "source": [
    "Calculate ribosome number:"
   ]
  },
  {
   "cell_type": "code",
   "execution_count": 18,
   "id": "c71481bd",
   "metadata": {},
   "outputs": [
    {
     "name": "stdout",
     "output_type": "stream",
     "text": [
      "     Ribosome_number\n",
      "0          21.601150\n",
      "1          28.621763\n",
      "2          21.740214\n",
      "3          18.753502\n",
      "4          26.776693\n",
      "..               ...\n",
      "355         5.199527\n",
      "356         5.403907\n",
      "357        15.632986\n",
      "358         5.424103\n",
      "359         8.680780\n",
      "\n",
      "[360 rows x 1 columns]\n"
     ]
    }
   ],
   "source": [
    "# Calculate ribosome number (new method - taking into account there could be more than one mRNA per translation site)\n",
    "\n",
    "correction_factor = (575*0.5 + 759)/(575 + 759) # \n",
    "\n",
    "ribosome_number = (coloc_brights_mRNAs['TS_intensity_norm']/coloc_brights_mRNAs['mrna_intensity_norm'])/correction_factor\n",
    "ribosome_number = pd.DataFrame(ribosome_number)\n",
    "ribosome_number.columns = (['Ribosome_number'])\n",
    "print(ribosome_number)\n",
    "\n",
    "ribosome_number.to_csv(folder + '/ribo_numbers.csv')"
   ]
  }
 ],
 "metadata": {
  "kernelspec": {
   "display_name": "Python 3 (ipykernel)",
   "language": "python",
   "name": "python3"
  },
  "language_info": {
   "codemirror_mode": {
    "name": "ipython",
    "version": 3
   },
   "file_extension": ".py",
   "mimetype": "text/x-python",
   "name": "python",
   "nbconvert_exporter": "python",
   "pygments_lexer": "ipython3",
   "version": "3.7.4"
  }
 },
 "nbformat": 4,
 "nbformat_minor": 5
}
